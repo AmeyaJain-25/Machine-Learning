{
 "cells": [
  {
   "cell_type": "code",
   "execution_count": 1,
   "id": "contrary-marshall",
   "metadata": {},
   "outputs": [],
   "source": [
    "import numpy as np"
   ]
  },
  {
   "cell_type": "code",
   "execution_count": 5,
   "id": "broadband-acting",
   "metadata": {},
   "outputs": [],
   "source": [
    "# Defining a list:\n",
    "numArray = [[1,2], [3,4]]\n",
    "numArray = np.array(numArray)"
   ]
  },
  {
   "cell_type": "code",
   "execution_count": 6,
   "id": "knowing-peripheral",
   "metadata": {},
   "outputs": [
    {
     "data": {
      "text/plain": [
       "array([[1, 2],\n",
       "       [3, 4]])"
      ]
     },
     "execution_count": 6,
     "metadata": {},
     "output_type": "execute_result"
    }
   ],
   "source": [
    "numArray"
   ]
  },
  {
   "cell_type": "code",
   "execution_count": 7,
   "id": "handy-afghanistan",
   "metadata": {},
   "outputs": [],
   "source": [
    "# Creating an array by defining the datatype while creating\n",
    "numArrayComp = np.array([[1,2], [3,4]], dtype=complex)"
   ]
  },
  {
   "cell_type": "code",
   "execution_count": 8,
   "id": "painful-limit",
   "metadata": {},
   "outputs": [
    {
     "data": {
      "text/plain": [
       "array([[1.+0.j, 2.+0.j],\n",
       "       [3.+0.j, 4.+0.j]])"
      ]
     },
     "execution_count": 8,
     "metadata": {},
     "output_type": "execute_result"
    }
   ],
   "source": [
    "numArrayComp"
   ]
  },
  {
   "cell_type": "code",
   "execution_count": 15,
   "id": "turkish-warning",
   "metadata": {},
   "outputs": [
    {
     "data": {
      "text/plain": [
       "array([0., 0., 0.])"
      ]
     },
     "execution_count": 15,
     "metadata": {},
     "output_type": "execute_result"
    }
   ],
   "source": [
    "# Creating array using zeros\n",
    "# It creates an 1D array if argument is a single digit with all values as zero\n",
    "numArrayZeros = np.zeros(3)\n",
    "numArrayZeros"
   ]
  },
  {
   "cell_type": "code",
   "execution_count": 20,
   "id": "insured-shuttle",
   "metadata": {},
   "outputs": [
    {
     "data": {
      "text/plain": [
       "array([[0., 0., 0., 0.],\n",
       "       [0., 0., 0., 0.]])"
      ]
     },
     "execution_count": 20,
     "metadata": {},
     "output_type": "execute_result"
    }
   ],
   "source": [
    "# Arrays od 2D and 3D can also been created. Give the value of the number of rows and column in tuple form\n",
    "numArrayZeros2D = np.zeros((2,4))\n",
    "numArrayZeros2D"
   ]
  },
  {
   "cell_type": "code",
   "execution_count": 17,
   "id": "underlying-rwanda",
   "metadata": {},
   "outputs": [
    {
     "data": {
      "text/plain": [
       "array([1., 1., 1., 1.])"
      ]
     },
     "execution_count": 17,
     "metadata": {},
     "output_type": "execute_result"
    }
   ],
   "source": [
    "# Same we can create array using ones\n",
    "# This creates an array of 1\n",
    "numArrayOnes = np.ones(4)\n",
    "numArrayOnes"
   ]
  },
  {
   "cell_type": "code",
   "execution_count": 23,
   "id": "developmental-release",
   "metadata": {},
   "outputs": [
    {
     "data": {
      "text/plain": [
       "array([[0, 0, 0],\n",
       "       [0, 0, 0]], dtype=int16)"
      ]
     },
     "execution_count": 23,
     "metadata": {},
     "output_type": "execute_result"
    }
   ],
   "source": [
    "# By default the datatype is float64. To get an array of predefined datatype, write the datatype while creating.\n",
    "numArrayZerosInt = np.zeros((2,3), dtype=np.int16)\n",
    "numArrayZerosInt"
   ]
  },
  {
   "cell_type": "code",
   "execution_count": 35,
   "id": "structured-wrestling",
   "metadata": {},
   "outputs": [],
   "source": [
    "# Eye function creates an array with diagonal elements as 1 and other elements as zero\n",
    "numArrayEye = np.eye(3) ### This will also be 2D i.e 3 by 3 matrix\n",
    "numArray2DEye = np.eye(3,4) ### Don't pass a tuple. Directly pass values by comma"
   ]
  },
  {
   "cell_type": "code",
   "execution_count": 36,
   "id": "suspended-auction",
   "metadata": {},
   "outputs": [
    {
     "data": {
      "text/plain": [
       "array([[1., 0., 0.],\n",
       "       [0., 1., 0.],\n",
       "       [0., 0., 1.]])"
      ]
     },
     "execution_count": 36,
     "metadata": {},
     "output_type": "execute_result"
    }
   ],
   "source": [
    "numArrayEye"
   ]
  },
  {
   "cell_type": "code",
   "execution_count": 37,
   "id": "intense-decade",
   "metadata": {},
   "outputs": [
    {
     "data": {
      "text/plain": [
       "array([[1., 0., 0., 0.],\n",
       "       [0., 1., 0., 0.],\n",
       "       [0., 0., 1., 0.]])"
      ]
     },
     "execution_count": 37,
     "metadata": {},
     "output_type": "execute_result"
    }
   ],
   "source": [
    "numArray2DEye"
   ]
  },
  {
   "cell_type": "code",
   "execution_count": 40,
   "id": "consecutive-simpson",
   "metadata": {},
   "outputs": [
    {
     "data": {
      "text/plain": [
       "array([[1, 0, 0, 0],\n",
       "       [0, 2, 0, 0],\n",
       "       [0, 0, 3, 0],\n",
       "       [0, 0, 0, 4]])"
      ]
     },
     "execution_count": 40,
     "metadata": {},
     "output_type": "execute_result"
    }
   ],
   "source": [
    "# The diag makes an array of dimensions as no of elements of list and the diagonal elements are the elements in the list\n",
    "# This will take input as a list to create an array with diag elements as the elements of the list.\n",
    "numArrayDiag = np.diag([1,2,3,4])\n",
    "numArrayDiag"
   ]
  },
  {
   "cell_type": "code",
   "execution_count": 43,
   "id": "frozen-swimming",
   "metadata": {},
   "outputs": [
    {
     "data": {
      "text/plain": [
       "array([1, 4])"
      ]
     },
     "execution_count": 43,
     "metadata": {},
     "output_type": "execute_result"
    }
   ],
   "source": [
    "# If we want to get the diagonal elements of an array, we can write the array inside diag().\n",
    "np.diag(numArray)"
   ]
  },
  {
   "cell_type": "code",
   "execution_count": 54,
   "id": "independent-lightweight",
   "metadata": {},
   "outputs": [
    {
     "data": {
      "text/plain": [
       "array([4, 9, 1])"
      ]
     },
     "execution_count": 54,
     "metadata": {},
     "output_type": "execute_result"
    }
   ],
   "source": [
    "# Generating an array of random elements.\n",
    "# np.random.randint(startIndex, endIndex, noOfElements)\n",
    "# The startIndex is INCLUSIVE and the endIndex is EXCLUSIVE\n",
    "numArrayRandom = np.random.randint(1, 12, 3)\n",
    "numArrayRandom"
   ]
  },
  {
   "cell_type": "code",
   "execution_count": 57,
   "id": "inclusive-basketball",
   "metadata": {},
   "outputs": [
    {
     "data": {
      "text/plain": [
       "array([0.15751605, 0.81869195, 0.36804967])"
      ]
     },
     "execution_count": 57,
     "metadata": {},
     "output_type": "execute_result"
    }
   ],
   "source": [
    "# Generating random numbers between 0 and 1 usinf rand function\n",
    "# It takes only one parameters, i.e the number of elements. If 2D or 3D, pass the no of row and column\n",
    "# The random values are obtained in float datatype and are in the range of 0 and 1\n",
    "numArrayRand = np.random.rand(3)\n",
    "numArrayRand"
   ]
  },
  {
   "cell_type": "code",
   "execution_count": 58,
   "id": "explicit-mystery",
   "metadata": {},
   "outputs": [
    {
     "data": {
      "text/plain": [
       "array([[0.58677712, 0.14356525, 0.78188884, 0.26802411],\n",
       "       [0.58351894, 0.07020647, 0.78314914, 0.01412229],\n",
       "       [0.39248163, 0.25681344, 0.54910122, 0.21984529]])"
      ]
     },
     "execution_count": 58,
     "metadata": {},
     "output_type": "execute_result"
    }
   ],
   "source": [
    "numArrayRand2D = np.random.rand(3,4)\n",
    "numArrayRand2D"
   ]
  },
  {
   "cell_type": "code",
   "execution_count": 63,
   "id": "handled-vector",
   "metadata": {},
   "outputs": [
    {
     "data": {
      "text/plain": [
       "array([[-0.06941182, -1.87529853, -1.52203452],\n",
       "       [-1.5590083 , -0.53250356,  0.63159322],\n",
       "       [-1.9783882 ,  1.014203  , -0.32946318],\n",
       "       [ 0.06771717,  1.37221681, -0.16817867]])"
      ]
     },
     "execution_count": 63,
     "metadata": {},
     "output_type": "execute_result"
    }
   ],
   "source": [
    "# Using randn function\n",
    "# The randn function provides the values around 0 which may be negative or positive values.\n",
    "# It provides the value in the form of normal distribution\n",
    "numArrayRandn = np.random.randn(4,3)\n",
    "numArrayRandn"
   ]
  }
 ],
 "metadata": {
  "kernelspec": {
   "display_name": "Python 3",
   "language": "python",
   "name": "python3"
  },
  "language_info": {
   "codemirror_mode": {
    "name": "ipython",
    "version": 3
   },
   "file_extension": ".py",
   "mimetype": "text/x-python",
   "name": "python",
   "nbconvert_exporter": "python",
   "pygments_lexer": "ipython3",
   "version": "3.8.7"
  }
 },
 "nbformat": 4,
 "nbformat_minor": 5
}
