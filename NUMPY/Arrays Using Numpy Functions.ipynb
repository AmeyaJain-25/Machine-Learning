{
 "cells": [
  {
   "cell_type": "code",
   "execution_count": 1,
   "id": "allied-preserve",
   "metadata": {},
   "outputs": [],
   "source": [
    "import numpy as np"
   ]
  },
  {
   "cell_type": "code",
   "execution_count": 5,
   "id": "national-demographic",
   "metadata": {},
   "outputs": [],
   "source": [
    "# Defining a list:\n",
    "numArray = [[1,2], [3,4]]\n",
    "numArray = np.array(numArray)"
   ]
  },
  {
   "cell_type": "code",
   "execution_count": 6,
   "id": "according-andorra",
   "metadata": {},
   "outputs": [
    {
     "data": {
      "text/plain": [
       "array([[1, 2],\n",
       "       [3, 4]])"
      ]
     },
     "execution_count": 6,
     "metadata": {},
     "output_type": "execute_result"
    }
   ],
   "source": [
    "numArray"
   ]
  },
  {
   "cell_type": "code",
   "execution_count": 7,
   "id": "about-sympathy",
   "metadata": {},
   "outputs": [],
   "source": [
    "# Creating an array by defining the datatype while creating\n",
    "numArrayComp = np.array([[1,2], [3,4]], dtype=complex)"
   ]
  },
  {
   "cell_type": "code",
   "execution_count": 8,
   "id": "reverse-religion",
   "metadata": {},
   "outputs": [
    {
     "data": {
      "text/plain": [
       "array([[1.+0.j, 2.+0.j],\n",
       "       [3.+0.j, 4.+0.j]])"
      ]
     },
     "execution_count": 8,
     "metadata": {},
     "output_type": "execute_result"
    }
   ],
   "source": [
    "numArrayComp"
   ]
  },
  {
   "cell_type": "code",
   "execution_count": 15,
   "id": "intimate-northeast",
   "metadata": {},
   "outputs": [
    {
     "data": {
      "text/plain": [
       "array([0., 0., 0.])"
      ]
     },
     "execution_count": 15,
     "metadata": {},
     "output_type": "execute_result"
    }
   ],
   "source": [
    "# Creating array using zeros\n",
    "# It creates an 1D array if argument is a single digit with all values as zero\n",
    "numArrayZeros = np.zeros(3)\n",
    "numArrayZeros"
   ]
  },
  {
   "cell_type": "code",
   "execution_count": 20,
   "id": "palestinian-lawyer",
   "metadata": {},
   "outputs": [
    {
     "data": {
      "text/plain": [
       "array([[0., 0., 0., 0.],\n",
       "       [0., 0., 0., 0.]])"
      ]
     },
     "execution_count": 20,
     "metadata": {},
     "output_type": "execute_result"
    }
   ],
   "source": [
    "# Arrays od 2D and 3D can also been created. Give the value of the number of rows and column in tuple form\n",
    "numArrayZeros2D = np.zeros((2,4))\n",
    "numArrayZeros2D"
   ]
  },
  {
   "cell_type": "code",
   "execution_count": 17,
   "id": "independent-palmer",
   "metadata": {},
   "outputs": [
    {
     "data": {
      "text/plain": [
       "array([1., 1., 1., 1.])"
      ]
     },
     "execution_count": 17,
     "metadata": {},
     "output_type": "execute_result"
    }
   ],
   "source": [
    "# Same we can create array using ones\n",
    "# This creates an array of 1\n",
    "numArrayOnes = np.ones(4)\n",
    "numArrayOnes"
   ]
  },
  {
   "cell_type": "code",
   "execution_count": 22,
   "id": "disturbed-figure",
   "metadata": {},
   "outputs": [
    {
     "data": {
      "text/plain": [
       "array([[0, 0, 0],\n",
       "       [0, 0, 0]], dtype=int16)"
      ]
     },
     "execution_count": 22,
     "metadata": {},
     "output_type": "execute_result"
    }
   ],
   "source": [
    "# By default the datatype is float64. To get an array of predefined datatype, write the datatype while creating.\n",
    "numArrayZerosInt = np.zeros((2,3), dtype=np.int16)\n",
    "numArrayZerosInt"
   ]
  }
 ],
 "metadata": {
  "kernelspec": {
   "display_name": "Python 3",
   "language": "python",
   "name": "python3"
  },
  "language_info": {
   "codemirror_mode": {
    "name": "ipython",
    "version": 3
   },
   "file_extension": ".py",
   "mimetype": "text/x-python",
   "name": "python",
   "nbconvert_exporter": "python",
   "pygments_lexer": "ipython3",
   "version": "3.8.7"
  }
 },
 "nbformat": 4,
 "nbformat_minor": 5
}
