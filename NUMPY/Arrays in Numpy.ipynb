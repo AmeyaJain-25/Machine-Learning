{
 "cells": [
  {
   "cell_type": "code",
   "execution_count": 32,
   "id": "sporting-usage",
   "metadata": {},
   "outputs": [],
   "source": [
    "import numpy as np"
   ]
  },
  {
   "cell_type": "code",
   "execution_count": 33,
   "id": "initial-budapest",
   "metadata": {},
   "outputs": [],
   "source": [
    "# Defining a list:\n",
    "numberArray = [1,2,3]"
   ]
  },
  {
   "cell_type": "code",
   "execution_count": 34,
   "id": "refined-rhythm",
   "metadata": {},
   "outputs": [],
   "source": [
    "# Converting the list to an array. The np.array creates a list to array by taking argument as array.\n",
    "numberArray = np.array(numberArray)"
   ]
  },
  {
   "cell_type": "code",
   "execution_count": 35,
   "id": "moral-dominant",
   "metadata": {},
   "outputs": [
    {
     "data": {
      "text/plain": [
       "array([1, 2, 3])"
      ]
     },
     "execution_count": 35,
     "metadata": {},
     "output_type": "execute_result"
    }
   ],
   "source": [
    "numberArray"
   ]
  },
  {
   "cell_type": "code",
   "execution_count": 36,
   "id": "rising-small",
   "metadata": {},
   "outputs": [],
   "source": [
    "# Also a 2-D arrays can be made.\n",
    "number2DArray = [[1,2], [3,4]]\n",
    "number2DArray = np.array(number2DArray)"
   ]
  },
  {
   "cell_type": "code",
   "execution_count": 37,
   "id": "wooden-arnold",
   "metadata": {},
   "outputs": [
    {
     "data": {
      "text/plain": [
       "array([[1, 2],\n",
       "       [3, 4]])"
      ]
     },
     "execution_count": 37,
     "metadata": {},
     "output_type": "execute_result"
    }
   ],
   "source": [
    "number2DArray"
   ]
  },
  {
   "cell_type": "code",
   "execution_count": 38,
   "id": "failing-sustainability",
   "metadata": {},
   "outputs": [],
   "source": [
    "# And 3-D arrays too.\n",
    "number3DArray = [[[1,2], [3,4]], [[5,6], [7,8]]]\n",
    "number3DArray = np.array(number3DArray)"
   ]
  },
  {
   "cell_type": "code",
   "execution_count": 39,
   "id": "subsequent-hampshire",
   "metadata": {},
   "outputs": [
    {
     "data": {
      "text/plain": [
       "array([[[1, 2],\n",
       "        [3, 4]],\n",
       "\n",
       "       [[5, 6],\n",
       "        [7, 8]]])"
      ]
     },
     "execution_count": 39,
     "metadata": {},
     "output_type": "execute_result"
    }
   ],
   "source": [
    "number3DArray"
   ]
  },
  {
   "cell_type": "code",
   "execution_count": 40,
   "id": "explicit-yahoo",
   "metadata": {},
   "outputs": [
    {
     "data": {
      "text/plain": [
       "3"
      ]
     },
     "execution_count": 40,
     "metadata": {},
     "output_type": "execute_result"
    }
   ],
   "source": [
    "# To check the dimensions of an array:\n",
    "# numberArray.ndim\n",
    "# number2DArray.ndim\n",
    "number3DArray.ndim"
   ]
  },
  {
   "cell_type": "code",
   "execution_count": 41,
   "id": "neither-study",
   "metadata": {},
   "outputs": [
    {
     "data": {
      "text/plain": [
       "(2, 2, 2)"
      ]
     },
     "execution_count": 41,
     "metadata": {},
     "output_type": "execute_result"
    }
   ],
   "source": [
    "# Also we can see the size of an array or num of rows and columns\n",
    "# numberArray.shape\n",
    "# number2DArray.shape\n",
    "number3DArray.shape"
   ]
  },
  {
   "cell_type": "code",
   "execution_count": 43,
   "id": "quantitative-bouquet",
   "metadata": {},
   "outputs": [
    {
     "data": {
      "text/plain": [
       "dtype('int32')"
      ]
     },
     "execution_count": 43,
     "metadata": {},
     "output_type": "execute_result"
    }
   ],
   "source": [
    "# Checking the datatype stored in numpy array\n",
    "# NOTE: The numpy array can only store one type of datatype\n",
    "numberArray.dtype"
   ]
  },
  {
   "cell_type": "code",
   "execution_count": 47,
   "id": "blessed-metro",
   "metadata": {},
   "outputs": [
    {
     "data": {
      "text/plain": [
       "4"
      ]
     },
     "execution_count": 47,
     "metadata": {},
     "output_type": "execute_result"
    }
   ],
   "source": [
    "# Getting the total number of elements in the numpy array\n",
    "number2DArray.size"
   ]
  },
  {
   "cell_type": "code",
   "execution_count": null,
   "id": "every-bulletin",
   "metadata": {},
   "outputs": [],
   "source": []
  }
 ],
 "metadata": {
  "kernelspec": {
   "display_name": "Python 3",
   "language": "python",
   "name": "python3"
  },
  "language_info": {
   "codemirror_mode": {
    "name": "ipython",
    "version": 3
   },
   "file_extension": ".py",
   "mimetype": "text/x-python",
   "name": "python",
   "nbconvert_exporter": "python",
   "pygments_lexer": "ipython3",
   "version": "3.8.7"
  }
 },
 "nbformat": 4,
 "nbformat_minor": 5
}
